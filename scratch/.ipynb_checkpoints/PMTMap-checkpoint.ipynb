{
 "cells": [
  {
   "cell_type": "markdown",
   "id": "961bf76c-6fe7-4031-a3a7-1823db0c1308",
   "metadata": {},
   "source": [
    "The purpose of this notebook is to compute the points-in-cap-per-direction distribution that I described in the previous notebook, but for the actual PMT positions. I obtained the PMT positions in x, y, z and put them in the pmt_positions.csv file, which I'll read. Then, I'll reuse some of the code I wrote in the other notebooks to rescale their positions so that the radius of the sphere is 1, and plot their positions in a $\\phi - \\theta$ plot. Then I'll compute and plot the distribution and calculate some of its properties.\n",
    "\n",
    "Cool, let's go!"
   ]
  },
  {
   "cell_type": "code",
   "id": "ddcaf239-2027-4c9b-bf91-58a37a188fed",
   "metadata": {
    "ExecuteTime": {
     "end_time": "2024-04-10T12:20:51.036343Z",
     "start_time": "2024-04-10T12:20:51.033103Z"
    }
   },
   "source": [
    "import numpy as np\n",
    "import matplotlib.pyplot as plt\n",
    "import math\n",
    "import random\n",
    "import csv"
   ],
   "execution_count": 164,
   "outputs": []
  },
  {
   "metadata": {
    "ExecuteTime": {
     "end_time": "2024-04-10T12:20:51.170749Z",
     "start_time": "2024-04-10T12:20:51.168714Z"
    }
   },
   "cell_type": "code",
   "source": "",
   "id": "efa2ce39b9aec9cb",
   "execution_count": 164,
   "outputs": []
  },
  {
   "metadata": {
    "ExecuteTime": {
     "end_time": "2024-04-10T12:20:51.387218Z",
     "start_time": "2024-04-10T12:20:51.385079Z"
    }
   },
   "cell_type": "code",
   "source": "",
   "id": "db0cf7188bafc213",
   "execution_count": 164,
   "outputs": []
  },
  {
   "metadata": {
    "ExecuteTime": {
     "end_time": "2024-04-10T12:20:51.540440Z",
     "start_time": "2024-04-10T12:20:51.538144Z"
    }
   },
   "cell_type": "code",
   "source": "",
   "id": "56e25ee628efbc90",
   "execution_count": 164,
   "outputs": []
  },
  {
   "cell_type": "code",
   "id": "7238df7b-d517-40ac-b071-14b2d9b564d1",
   "metadata": {
    "ExecuteTime": {
     "end_time": "2024-04-10T12:20:51.746845Z",
     "start_time": "2024-04-10T12:20:51.725204Z"
    }
   },
   "source": [
    "# Load the CSV file\n",
    "data = np.genfromtxt('pmt_positions.csv', delimiter=',', skip_header=1)"
   ],
   "execution_count": 165,
   "outputs": []
  },
  {
   "cell_type": "code",
   "id": "772fbadb-8120-4ab7-8fe9-d928ca6cadb7",
   "metadata": {
    "ExecuteTime": {
     "end_time": "2024-04-10T12:20:51.860327Z",
     "start_time": "2024-04-10T12:20:51.858346Z"
    }
   },
   "source": "",
   "execution_count": 165,
   "outputs": []
  },
  {
   "metadata": {},
   "cell_type": "markdown",
   "source": "",
   "id": "ca73159ef54c5a31"
  },
  {
   "cell_type": "markdown",
   "id": "d6dadb6a-4a5c-4c65-9e8e-66bc0ae14d88",
   "metadata": {},
   "source": [
    "I accidentally kept PMTs that I didn't want, rerun code to make csv file. Anyway, I want to compute all the vector lengths to see which ones are reasonable."
   ]
  },
  {
   "cell_type": "code",
   "id": "4035cb56-43ec-444a-848b-c4e4366ca57f",
   "metadata": {
    "ExecuteTime": {
     "end_time": "2024-04-10T12:20:52.373171Z",
     "start_time": "2024-04-10T12:20:52.369139Z"
    }
   },
   "source": [
    "vector_lengths = np.linalg.norm(data, axis=1)\n",
    "print(vector_lengths)"
   ],
   "execution_count": 166,
   "outputs": []
  },
  {
   "cell_type": "markdown",
   "id": "9d9db37c-c461-4238-882b-1f2733759a22",
   "metadata": {},
   "source": [
    "It seems like all the vector lengths are between 8399 and 8424, so these are pretty close to each other, as expected. I think we have more PMTs than expected but let's keep going. Rescale data so that everything is on a sphere of radius 1:"
   ]
  },
  {
   "cell_type": "code",
   "id": "fffbae5a-e7bb-4a9f-a3db-1da4b9a8103e",
   "metadata": {
    "ExecuteTime": {
     "end_time": "2024-04-10T12:20:52.734286Z",
     "start_time": "2024-04-10T12:20:52.731413Z"
    }
   },
   "source": [
    "rescaled_data = data / vector_lengths[:, np.newaxis]"
   ],
   "execution_count": 167,
   "outputs": []
  },
  {
   "cell_type": "code",
   "id": "6ef966da-faa0-4c8b-be5d-abd3efb2cd8d",
   "metadata": {
    "ExecuteTime": {
     "end_time": "2024-04-10T12:20:52.944468Z",
     "start_time": "2024-04-10T12:20:52.940820Z"
    }
   },
   "source": [
    "vector_lengths_rescaled = np.linalg.norm(rescaled_data, axis = 1)\n",
    "print(vector_lengths_rescaled)"
   ],
   "execution_count": 168,
   "outputs": []
  },
  {
   "cell_type": "code",
   "id": "61b8cada-4e96-432b-bb74-2d3e867e4987",
   "metadata": {
    "ExecuteTime": {
     "end_time": "2024-04-10T12:20:53.068548Z",
     "start_time": "2024-04-10T12:20:53.065691Z"
    }
   },
   "source": [
    "def cartesian_to_spherical(x, y, z):\n",
    "    r = np.sqrt(x**2 + y**2 + z**2)\n",
    "    phi = np.arctan2(y, x)\n",
    "    theta = np.arccos(z / r)\n",
    "    return r, phi, theta\n",
    "\n",
    "def convert_points_to_spherical(points):\n",
    "    points_set_polars = []\n",
    "    for point in points:\n",
    "        x = point[0]\n",
    "        y = point[1]\n",
    "        z = point[2]\n",
    "        r, phi, theta = cartesian_to_spherical(x, y, z)\n",
    "        points_set_polars.append((r, phi, theta))\n",
    "    return points_set_polars"
   ],
   "execution_count": 169,
   "outputs": []
  },
  {
   "cell_type": "code",
   "id": "05809ed5-92c1-43b5-8b19-59e78a1f5702",
   "metadata": {
    "ExecuteTime": {
     "end_time": "2024-04-10T12:20:53.288478Z",
     "start_time": "2024-04-10T12:20:53.255871Z"
    }
   },
   "source": [
    "points_polars = convert_points_to_spherical(rescaled_data)"
   ],
   "execution_count": 170,
   "outputs": []
  },
  {
   "cell_type": "code",
   "id": "3150600c-5e46-4893-9720-94e2fe5c482f",
   "metadata": {
    "ExecuteTime": {
     "end_time": "2024-04-10T12:20:53.407799Z",
     "start_time": "2024-04-10T12:20:53.402777Z"
    }
   },
   "source": [
    "points_phi = np.zeros(len(points_polars))\n",
    "points_theta = np.zeros(len(points_polars))\n",
    "\n",
    "for i in range(len(points_polars)):\n",
    "    points_phi[i] = points_polars[i][1]\n",
    "    points_theta[i] = points_polars[i][2]"
   ],
   "execution_count": 171,
   "outputs": []
  },
  {
   "metadata": {
    "ExecuteTime": {
     "end_time": "2024-04-10T12:20:53.589333Z",
     "start_time": "2024-04-10T12:20:53.587209Z"
    }
   },
   "cell_type": "code",
   "source": "",
   "id": "c6cf714287f67d32",
   "execution_count": 171,
   "outputs": []
  },
  {
   "cell_type": "code",
   "id": "58443526-3a13-44a7-a8fe-01a35740f316",
   "metadata": {
    "ExecuteTime": {
     "end_time": "2024-04-10T12:20:53.968831Z",
     "start_time": "2024-04-10T12:20:53.754806Z"
    }
   },
   "source": [
    "#Plot points on 2D map\n",
    "\n",
    "# Plot the grid points\n",
    "plt.scatter(points_phi, points_theta, s=0.5, color='blue')  # Adjust marker size and color as needed\n",
    "\n",
    "\n",
    "# Set x-axis ticks\n",
    "plt.xticks(np.linspace(-np.pi, np.pi, 5), \n",
    "           ['$-\\pi$', '$-\\pi/2$', '$0$', '$\\pi/2$', '$\\pi$'])\n",
    "\n",
    "# Set y-axis ticks\n",
    "plt.yticks(np.linspace(0, np.pi, 3), \n",
    "           ['$0$', '$\\pi/2$', '$\\pi$'])\n",
    "\n",
    "plt.xlabel('Phi')\n",
    "plt.ylabel('Theta')\n",
    "plt.title('All PMTs')\n",
    "\n",
    "# Set aspect ratio to 'equal'\n",
    "plt.gca().set_aspect('equal', adjustable='box')\n",
    "\n",
    "\n",
    "plt.grid(True)\n",
    "\n",
    "plt.savefig('PMTMap.pdf', format='pdf')\n",
    "plt.show()"
   ],
   "execution_count": 172,
   "outputs": []
  },
  {
   "cell_type": "markdown",
   "id": "4e172719-68ec-4058-a089-fd844258fda3",
   "metadata": {},
   "source": [
    "This looks just as I expected, which is great! Now we want the distributions. Will generate some random directions to begin with"
   ]
  },
  {
   "cell_type": "code",
   "id": "ce0ad250-dfab-43f3-8bca-28874ad7b8ca",
   "metadata": {
    "ExecuteTime": {
     "end_time": "2024-04-10T12:20:54.104174Z",
     "start_time": "2024-04-10T12:20:54.101452Z"
    }
   },
   "source": [
    "def generate_random_numbers(m, n, count):\n",
    "    return np.random.uniform(m, n, count)"
   ],
   "execution_count": 173,
   "outputs": []
  },
  {
   "cell_type": "code",
   "id": "86c8e4a2-715e-49a5-80cc-1cf410122ec7",
   "metadata": {
    "ExecuteTime": {
     "end_time": "2024-04-10T12:20:54.225225Z",
     "start_time": "2024-04-10T12:20:54.222058Z"
    }
   },
   "source": [
    "def generate_points(N):\n",
    "    x_array = generate_random_numbers(-1, 1, N)\n",
    "    y_array = generate_random_numbers(-1, 1, N)\n",
    "    z_array = generate_random_numbers(-1, 1, N)\n",
    "    return x_array, y_array, z_array"
   ],
   "execution_count": 174,
   "outputs": []
  },
  {
   "cell_type": "code",
   "id": "03561411-2a73-438e-86e9-c124e59f66cb",
   "metadata": {
    "ExecuteTime": {
     "end_time": "2024-04-10T12:20:54.374310Z",
     "start_time": "2024-04-10T12:20:54.371702Z"
    }
   },
   "source": [
    "#next three cells: make direction (vector u) arrays\n",
    "\n",
    "grid_size_1d_2 = 2400"
   ],
   "execution_count": 175,
   "outputs": []
  },
  {
   "cell_type": "code",
   "id": "2fd5a13d-f529-494a-b742-6b2acd09ed23",
   "metadata": {
    "ExecuteTime": {
     "end_time": "2024-04-10T12:20:54.561364Z",
     "start_time": "2024-04-10T12:20:54.558283Z"
    }
   },
   "source": [
    "x_array_2, y_array_2, z_array_2 = generate_points(grid_size_1d_2)"
   ],
   "execution_count": 176,
   "outputs": []
  },
  {
   "cell_type": "code",
   "id": "8ee99ef2-9a0b-4c22-814b-d1c6ca483964",
   "metadata": {
    "ExecuteTime": {
     "end_time": "2024-04-10T12:20:54.719569Z",
     "start_time": "2024-04-10T12:20:54.712090Z"
    }
   },
   "source": [
    "points_set_2 = []\n",
    "\n",
    "\n",
    "for i in range(grid_size_1d_2):\n",
    "    vector_length = (x_array_2[i]**2 + y_array_2[i]**2 + z_array_2[i]**2)**(1/2)\n",
    "    \n",
    "    if vector_length <= 1:\n",
    "        points_set_2.append(np.array([x_array_2[i] / vector_length, y_array_2[i] / vector_length, z_array_2[i] / vector_length]))\n",
    "\n",
    "points_set_2 = np.array(points_set_2)\n",
    "print(points_set_2)        \n",
    "\n",
    "print(len(points_set_2))"
   ],
   "execution_count": 177,
   "outputs": []
  },
  {
   "cell_type": "code",
   "id": "6c8d8447-627f-4a94-b037-f9f91e4cd6c6",
   "metadata": {
    "ExecuteTime": {
     "end_time": "2024-04-10T12:20:54.867230Z",
     "start_time": "2024-04-10T12:20:54.860673Z"
    }
   },
   "source": [
    "points_set_polars_2 = convert_points_to_spherical(points_set_2)"
   ],
   "execution_count": 178,
   "outputs": []
  },
  {
   "cell_type": "code",
   "id": "deb3296b-ac0e-49a7-a93e-be30a4266371",
   "metadata": {
    "ExecuteTime": {
     "end_time": "2024-04-10T12:20:54.994328Z",
     "start_time": "2024-04-10T12:20:54.990631Z"
    }
   },
   "source": [
    "#convert u arrays to spherical polars as well\n",
    "\n",
    "points_phi_2 = np.zeros(len(points_set_polars_2))\n",
    "points_theta_2 = np.zeros(len(points_set_polars_2))\n",
    "\n",
    "for i in range(len(points_set_polars_2)):\n",
    "    points_phi_2[i] = points_set_polars_2[i][1]\n",
    "    points_theta_2[i] = points_set_polars_2[i][2]"
   ],
   "execution_count": 179,
   "outputs": []
  },
  {
   "cell_type": "code",
   "id": "50290a26-42ed-403e-b94b-9aeb7cac8146",
   "metadata": {
    "ExecuteTime": {
     "end_time": "2024-04-10T12:20:55.424559Z",
     "start_time": "2024-04-10T12:20:55.187019Z"
    }
   },
   "source": [
    "# Plot the grid points\n",
    "plt.scatter(points_phi, points_theta, s=0.5, color='blue')  # Adjust marker size and color as needed\n",
    "plt.scatter(points_phi_2, points_theta_2, s=2, color='red')\n",
    "\n",
    "# Set x-axis ticks\n",
    "plt.xticks(np.linspace(-np.pi, np.pi, 5), \n",
    "           ['$-\\pi$', '$-\\pi/2$', '$0$', '$\\pi/2$', '$\\pi$'])\n",
    "\n",
    "# Set y-axis ticks\n",
    "plt.yticks(np.linspace(0, np.pi, 3), \n",
    "           ['$0$', '$\\pi/2$', '$\\pi$'])\n",
    "\n",
    "plt.xlabel('Phi')\n",
    "plt.ylabel('Theta')\n",
    "plt.title('All PMTs')\n",
    "\n",
    "# Set aspect ratio to 'equal'\n",
    "plt.gca().set_aspect('equal', adjustable='box')\n",
    "\n",
    "plt.savefig('PMTMapWithDirections.pdf', format='pdf')\n",
    "\n",
    "plt.grid(True)\n",
    "plt.show()\n"
   ],
   "execution_count": 180,
   "outputs": []
  },
  {
   "cell_type": "code",
   "id": "1a14e806-1b15-46b1-bdc7-3e8cdc95667f",
   "metadata": {
    "ExecuteTime": {
     "end_time": "2024-04-10T12:20:55.428124Z",
     "start_time": "2024-04-10T12:20:55.425575Z"
    }
   },
   "source": [
    "#function that computes the angle between two vectors\n",
    "\n",
    "def angle_between_vectors(v1, v2):\n",
    "    dot_product = np.dot(v1, v2)\n",
    "    magnitude_v1 = np.linalg.norm(v1)\n",
    "    magnitude_v2 = np.linalg.norm(v2)\n",
    "    cosine_angle = dot_product / (magnitude_v1 * magnitude_v2)\n",
    "    angle_rad = np.arccos(np.clip(cosine_angle, -1.0, 1.0))\n",
    "    return angle_rad"
   ],
   "execution_count": 181,
   "outputs": []
  },
  {
   "cell_type": "code",
   "id": "c7ade526-3d18-46b9-ae5f-dc828480e0a4",
   "metadata": {
    "ExecuteTime": {
     "end_time": "2024-04-10T12:20:55.544794Z",
     "start_time": "2024-04-10T12:20:55.542064Z"
    }
   },
   "source": [
    "points_in_cap_per_grid_point = np.zeros(len(points_set_2))"
   ],
   "execution_count": 182,
   "outputs": []
  },
  {
   "cell_type": "code",
   "id": "81dedbde-ade2-4b10-93bc-a23b716f8131",
   "metadata": {
    "ExecuteTime": {
     "end_time": "2024-04-10T12:23:21.197380Z",
     "start_time": "2024-04-10T12:20:55.718817Z"
    }
   },
   "source": [
    "for i in range(len(points_set_2)): #for each directions\n",
    "    \n",
    "    counter = 0\n",
    "    \n",
    "    for j in range(len(rescaled_data)): #for each of the N points\n",
    "        angle = angle_between_vectors(points_set_2[i], rescaled_data[j])\n",
    "        if angle < np.pi/4:\n",
    "            counter += 1\n",
    "    print('computed for i = '+str(i)+' out of '+str(len(points_set_2)))\n",
    "            \n",
    "    points_in_cap_per_grid_point[i] = counter"
   ],
   "execution_count": 183,
   "outputs": []
  },
  {
   "cell_type": "code",
   "id": "ae041360-1011-4096-a33f-48de4699ed7b",
   "metadata": {
    "ExecuteTime": {
     "end_time": "2024-04-10T12:25:46.911801Z",
     "start_time": "2024-04-10T12:23:21.198359Z"
    }
   },
   "source": [
    "points_in_cap_per_grid_point_PiOver3 = np.zeros(len(points_set_2))\n",
    "\n",
    "for i in range(len(points_set_2)): #for each directions\n",
    "    \n",
    "    counter = 0\n",
    "    \n",
    "    for j in range(len(rescaled_data)): #for each of the N points\n",
    "        angle = angle_between_vectors(points_set_2[i], rescaled_data[j])\n",
    "        if angle < np.pi/3:\n",
    "            counter += 1\n",
    "    print('computed for i = '+str(i)+' out of '+str(len(points_set_2)))\n",
    "            \n",
    "    points_in_cap_per_grid_point_PiOver3[i] = counter"
   ],
   "execution_count": 184,
   "outputs": []
  },
  {
   "cell_type": "code",
   "id": "478d1666-0815-4822-8391-72b1aad5fde5",
   "metadata": {
    "ExecuteTime": {
     "end_time": "2024-04-10T12:28:12.191328Z",
     "start_time": "2024-04-10T12:25:46.912631Z"
    }
   },
   "source": [
    "points_in_cap_per_grid_point_PiOver6 = np.zeros(len(points_set_2))\n",
    "\n",
    "for i in range(len(points_set_2)): #for each directions\n",
    "    \n",
    "    counter = 0\n",
    "    \n",
    "    for j in range(len(rescaled_data)): #for each of the N points\n",
    "        angle = angle_between_vectors(points_set_2[i], rescaled_data[j])\n",
    "        if angle < np.pi/6:\n",
    "            counter += 1\n",
    "    print('computed for i = '+str(i)+' out of '+str(len(points_set_2)))\n",
    "            \n",
    "    points_in_cap_per_grid_point_PiOver6[i] = counter"
   ],
   "execution_count": 185,
   "outputs": []
  },
  {
   "cell_type": "markdown",
   "id": "23591dcd-0fcb-4e0b-afe0-b499dfe55b89",
   "metadata": {},
   "source": [
    "They all seem to have one big peak, and one smaller peak to the left of the big peak. Check if values of the big peak centered around expected value. From other notebooks: For an isotropic distribution of the N points on the sphere, we expect this to be sharply peaked around $N \\cdot \\frac{A_{cap}}{A_{sphere}}$. "
   ]
  },
  {
   "cell_type": "markdown",
   "id": "73f9023a-5909-4e6b-b3ea-0b9052107682",
   "metadata": {},
   "source": [
    "We know that $N = 9389$ (the number of PMTs). The area of the sphere is $A_{sphere} = 4 \\pi r^2 = 4\\pi$ (because the radius is 1). The area of the cap is $A_{cap} = 2 \\pi r^2 (1 - \\mathrm{cos}\\alpha) = 2 \\pi (1 - \\mathrm{cos} \\alpha)$, so the peak should be around:\n",
    "\n",
    "$$N \\cdot \\frac{A_{cap}}{A_{sphere}} = N \\cdot \\frac{2 \\pi (1 - \\mathrm{cos} \\alpha)}{4\\pi} = N \\cdot \\frac{1 - \\mathrm{cos} \\alpha}{2}$$"
   ]
  },
  {
   "cell_type": "code",
   "id": "d565521a-7440-43ea-8c7c-479d73f3492b",
   "metadata": {
    "ExecuteTime": {
     "end_time": "2024-04-10T12:28:12.194921Z",
     "start_time": "2024-04-10T12:28:12.192531Z"
    }
   },
   "source": [
    "# calculate peaks\n",
    "\n",
    "def peak_value(N, alpha):\n",
    "    return N * (1 - np.cos(alpha))/2"
   ],
   "execution_count": 186,
   "outputs": []
  },
  {
   "cell_type": "code",
   "id": "8a952b90-eac0-4d30-ba8e-be5bd59db6c1",
   "metadata": {
    "ExecuteTime": {
     "end_time": "2024-04-10T12:28:12.212059Z",
     "start_time": "2024-04-10T12:28:12.195541Z"
    }
   },
   "source": [
    "N = 9389"
   ],
   "execution_count": 187,
   "outputs": []
  },
  {
   "cell_type": "code",
   "id": "dd9c5d53-9597-4ac9-9b7f-408b63d9cf2f",
   "metadata": {
    "ExecuteTime": {
     "end_time": "2024-04-10T12:28:12.220934Z",
     "start_time": "2024-04-10T12:28:12.212757Z"
    }
   },
   "source": [
    "peak_PiOver3 = peak_value(N, np.pi/3)\n",
    "print(\"peak should be at \"+str(peak_PiOver3)+\" for alpha = pi/3\")\n",
    "peak_PiOver4 = peak_value(N, np.pi/4)\n",
    "print(\"peak should be at \"+str(peak_PiOver4)+\" for alpha = pi/4\")\n",
    "peak_PiOver6 = peak_value(N, np.pi/6)\n",
    "print(\"peak should be at \"+str(peak_PiOver6)+\" for alpha = pi/6\")"
   ],
   "execution_count": 188,
   "outputs": []
  },
  {
   "cell_type": "markdown",
   "id": "0fbcff44-69fe-4c3e-9a68-dcfbb5c622e9",
   "metadata": {},
   "source": [
    "Remake plots:"
   ]
  },
  {
   "cell_type": "code",
   "id": "f5f5a4cd-e8b3-4960-bcc7-ee1e55c42487",
   "metadata": {
    "ExecuteTime": {
     "end_time": "2024-04-10T12:28:13.957957Z",
     "start_time": "2024-04-10T12:28:12.221828Z"
    }
   },
   "source": [
    "# Compute histogram\n",
    "hist_values_PiOver4, bin_edges_PiOver4 = np.histogram(points_in_cap_per_grid_point, bins=np.arange(points_in_cap_per_grid_point.max() + 2))\n",
    "\n",
    "# Plot histogram\n",
    "plt.bar(bin_edges_PiOver4[:-1], hist_values_PiOver4, width=0.5, align='center')\n",
    "\n",
    "plt.xlabel('Number of points in cap')\n",
    "plt.xlim(1290, 1420)\n",
    "plt.ylabel('Number of directions')\n",
    "plt.title('Histogram of points in cap per direction')\n",
    "plt.grid(True)\n",
    "\n",
    "plt.axvline(x=peak_PiOver4, color='red', linestyle='--', label='Expected Peak: {}'.format(peak_PiOver4))\n",
    "\n",
    "# Compute mean and median\n",
    "mean_value = np.mean(points_in_cap_per_grid_point)\n",
    "median_value = np.median(points_in_cap_per_grid_point)\n",
    "\n",
    "# Plot mean and median as vertical lines\n",
    "plt.axvline(x=mean_value, color='green', linestyle='--', label='Mean: {:.2f}'.format(mean_value))\n",
    "plt.axvline(x=median_value, color='purple', linestyle='--', label='Median: {:.2f}'.format(median_value))\n",
    "\n",
    "# Add legend\n",
    "plt.legend()\n",
    "\n",
    "plt.savefig(\"RandomGridTruePMTs_PiOver4.pdf\", format='pdf')\n",
    "plt.show()\n"
   ],
   "execution_count": 189,
   "outputs": []
  },
  {
   "cell_type": "code",
   "id": "8269953b-f03d-4451-be23-f532bca5b1c7",
   "metadata": {
    "ExecuteTime": {
     "end_time": "2024-04-10T12:28:16.358453Z",
     "start_time": "2024-04-10T12:28:13.958687Z"
    }
   },
   "source": [
    "# Compute histogram\n",
    "hist_values_PiOver3, bin_edges_PiOver3 = np.histogram(points_in_cap_per_grid_point_PiOver3, bins=np.arange(points_in_cap_per_grid_point_PiOver3.max() + 2))\n",
    "\n",
    "# Plot histogram\n",
    "plt.bar(bin_edges_PiOver3[:-1], hist_values_PiOver3, width=0.5, align='center')\n",
    "\n",
    "plt.xlabel('Number of points in cap')\n",
    "plt.xlim(2230, 2400)\n",
    "plt.ylabel('Number of directions')\n",
    "plt.title('Histogram of points in cap per direction')\n",
    "plt.grid(True)\n",
    "\n",
    "plt.axvline(x=peak_PiOver3, color='red', linestyle='--', label='Expected Peak: {}'.format(peak_PiOver3))\n",
    "\n",
    "# Compute mean and median\n",
    "mean_value_PiOver3 = np.mean(points_in_cap_per_grid_point_PiOver3)\n",
    "median_value_PiOver3 = np.median(points_in_cap_per_grid_point_PiOver3)\n",
    "\n",
    "# Plot mean and median as vertical lines\n",
    "plt.axvline(x=mean_value_PiOver3, color='green', linestyle='--', label='Mean: {:.2f}'.format(mean_value_PiOver3))\n",
    "plt.axvline(x=median_value_PiOver3, color='purple', linestyle='--', label='Median: {:.2f}'.format(median_value_PiOver3))\n",
    "\n",
    "# Add legend\n",
    "plt.legend()\n",
    "\n",
    "plt.savefig(\"RandomGridTruePMTs_PiOver3.pdf\", format='pdf')\n",
    "plt.show()\n"
   ],
   "execution_count": 190,
   "outputs": []
  },
  {
   "cell_type": "code",
   "id": "2bc69b2b-9768-4c40-98be-301f11b268b3",
   "metadata": {
    "ExecuteTime": {
     "end_time": "2024-04-10T12:28:17.163561Z",
     "start_time": "2024-04-10T12:28:16.359354Z"
    }
   },
   "source": [
    "# Compute histogram\n",
    "hist_values_PiOver6, bin_edges_PiOver6 = np.histogram(points_in_cap_per_grid_point_PiOver6, bins=np.arange(points_in_cap_per_grid_point_PiOver6.max() + 2))\n",
    "\n",
    "# Plot histogram\n",
    "plt.bar(bin_edges_PiOver6[:-1], hist_values_PiOver6, width=0.5, align='center')\n",
    "\n",
    "plt.xlabel('Number of points in cap')\n",
    "plt.xlim(550, 660)\n",
    "plt.ylabel('Number of directions')\n",
    "plt.title('Histogram of points in cap per direction')\n",
    "plt.grid(True)\n",
    "\n",
    "plt.axvline(x=peak_PiOver6, color='red', linestyle='--', label='Expected Peak: {}'.format(peak_PiOver6))\n",
    "\n",
    "# Compute mean and median\n",
    "mean_value_PiOver6 = np.mean(points_in_cap_per_grid_point_PiOver6)\n",
    "median_value_PiOver6 = np.median(points_in_cap_per_grid_point_PiOver6)\n",
    "\n",
    "# Plot mean and median as vertical lines\n",
    "plt.axvline(x=mean_value_PiOver6, color='green', linestyle='--', label='Mean: {:.2f}'.format(mean_value_PiOver6))\n",
    "plt.axvline(x=median_value_PiOver6, color='purple', linestyle='--', label='Median: {:.2f}'.format(median_value_PiOver6))\n",
    "\n",
    "# Add legend\n",
    "plt.legend()\n",
    "\n",
    "plt.savefig(\"RandomGridTruePMTs_PiOvr6.pdf\", format='pdf')\n",
    "plt.show()\n"
   ],
   "execution_count": 191,
   "outputs": []
  },
  {
   "metadata": {},
   "cell_type": "markdown",
   "source": "Now plot the same distributions for 400 PMTs missing in one place (big gap) -- see PMTMapWithGap to check what the map looks like",
   "id": "9df51970d5fc3aea"
  },
  {
   "cell_type": "code",
   "id": "3aeda20b-9394-416b-835d-0fa31afcdf50",
   "metadata": {
    "ExecuteTime": {
     "end_time": "2024-04-10T12:28:17.167389Z",
     "start_time": "2024-04-10T12:28:17.165266Z"
    }
   },
   "source": [
    "gappy_points_phi = points_phi[400:]\n",
    "gappy_points_theta = points_theta[400:]\n",
    "gappy_rescaled_data = rescaled_data[400:]"
   ],
   "execution_count": 192,
   "outputs": []
  },
  {
   "metadata": {
    "ExecuteTime": {
     "end_time": "2024-04-10T12:30:35.019459Z",
     "start_time": "2024-04-10T12:28:17.168008Z"
    }
   },
   "cell_type": "code",
   "source": [
    "for i in range(len(points_set_2)): #for each directions\n",
    "    \n",
    "    counter = 0\n",
    "    \n",
    "    for j in range(len(gappy_rescaled_data)): #for each of the N points\n",
    "        angle = angle_between_vectors(points_set_2[i], gappy_rescaled_data[j])\n",
    "        if angle < np.pi/4:\n",
    "            counter += 1\n",
    "    print('computed for i = '+str(i)+' out of '+str(len(points_set_2)))\n",
    "            \n",
    "    points_in_cap_per_grid_point[i] = counter"
   ],
   "id": "a4fafc21f8c27f62",
   "execution_count": 193,
   "outputs": []
  },
  {
   "metadata": {
    "ExecuteTime": {
     "end_time": "2024-04-10T12:32:53.388161Z",
     "start_time": "2024-04-10T12:30:35.020174Z"
    }
   },
   "cell_type": "code",
   "source": [
    "points_in_cap_per_grid_point_PiOver3 = np.zeros(len(points_set_2))\n",
    "\n",
    "for i in range(len(points_set_2)): #for each directions\n",
    "    \n",
    "    counter = 0\n",
    "    \n",
    "    for j in range(len(gappy_rescaled_data)): #for each of the N points\n",
    "        angle = angle_between_vectors(points_set_2[i], gappy_rescaled_data[j])\n",
    "        if angle < np.pi/3:\n",
    "            counter += 1\n",
    "    print('computed for i = '+str(i)+' out of '+str(len(points_set_2)))\n",
    "            \n",
    "    points_in_cap_per_grid_point_PiOver3[i] = counter"
   ],
   "id": "5f9f130c3ff56ec8",
   "execution_count": 194,
   "outputs": []
  },
  {
   "metadata": {
    "ExecuteTime": {
     "end_time": "2024-04-10T12:35:11.773060Z",
     "start_time": "2024-04-10T12:32:53.388902Z"
    }
   },
   "cell_type": "code",
   "source": [
    "points_in_cap_per_grid_point_PiOver6 = np.zeros(len(points_set_2))\n",
    "\n",
    "for i in range(len(points_set_2)): #for each directions\n",
    "    \n",
    "    counter = 0\n",
    "    \n",
    "    for j in range(len(gappy_rescaled_data)): #for each of the N points\n",
    "        angle = angle_between_vectors(points_set_2[i], gappy_rescaled_data[j])\n",
    "        if angle < np.pi/6:\n",
    "            counter += 1\n",
    "    print('computed for i = '+str(i)+' out of '+str(len(points_set_2)))\n",
    "            \n",
    "    points_in_cap_per_grid_point_PiOver6[i] = counter"
   ],
   "id": "ea3cf9649f8bb142",
   "execution_count": 195,
   "outputs": []
  },
  {
   "metadata": {
    "ExecuteTime": {
     "end_time": "2024-04-10T12:35:13.277524Z",
     "start_time": "2024-04-10T12:35:11.773783Z"
    }
   },
   "cell_type": "code",
   "source": [
    "# Compute histogram\n",
    "hist_values_PiOver4, bin_edges_PiOver4 = np.histogram(points_in_cap_per_grid_point, bins=np.arange(points_in_cap_per_grid_point.max() + 2))\n",
    "\n",
    "# Plot histogram\n",
    "plt.bar(bin_edges_PiOver4[:-1], hist_values_PiOver4, width=0.5, align='center')\n",
    "\n",
    "plt.xlabel('Number of points in cap')\n",
    "plt.xlim(950, 1420)\n",
    "plt.ylabel('Number of directions')\n",
    "plt.title('Histogram of points in cap per direction')\n",
    "plt.grid(True)\n",
    "\n",
    "#scale expected number by (no PMTs)/(total no PMTs)\n",
    "plt.axvline(x=peak_PiOver4*(N-400)/N, color='red', linestyle='--', label='Expected Peak: {}'.format(peak_PiOver4*(N-400)/N))\n",
    "\n",
    "# Compute mean and median\n",
    "mean_value = np.mean(points_in_cap_per_grid_point)\n",
    "median_value = np.median(points_in_cap_per_grid_point)\n",
    "\n",
    "# Plot mean and median as vertical lines\n",
    "plt.axvline(x=mean_value, color='green', linestyle='--', label='Mean: {:.2f}'.format(mean_value))\n",
    "plt.axvline(x=median_value, color='purple', linestyle='--', label='Median: {:.2f}'.format(median_value))\n",
    "\n",
    "# Add legend\n",
    "plt.legend()\n",
    "\n",
    "plt.savefig(\"RandomGridPMTsWithGap_PiOver4.pdf\", format='pdf')\n",
    "plt.show()\n"
   ],
   "id": "35b678faba51fa35",
   "execution_count": 196,
   "outputs": []
  },
  {
   "metadata": {
    "ExecuteTime": {
     "end_time": "2024-04-10T12:35:15.669626Z",
     "start_time": "2024-04-10T12:35:13.278207Z"
    }
   },
   "cell_type": "code",
   "source": [
    "# Compute histogram\n",
    "hist_values_PiOver3, bin_edges_PiOver3 = np.histogram(points_in_cap_per_grid_point_PiOver3, bins=np.arange(points_in_cap_per_grid_point_PiOver3.max() + 2))\n",
    "\n",
    "# Plot histogram\n",
    "plt.bar(bin_edges_PiOver3[:-1], hist_values_PiOver3, width=0.5, align='center')\n",
    "\n",
    "plt.xlabel('Number of points in cap')\n",
    "plt.xlim(1900, 2400)\n",
    "plt.ylabel('Number of directions')\n",
    "plt.title('Histogram of points in cap per direction')\n",
    "plt.grid(True)\n",
    "\n",
    "plt.axvline(x=peak_PiOver3*(N-400)/N, color='red', linestyle='--', label='Expected Peak: {}'.format(peak_PiOver3*(N-400)/N))\n",
    "\n",
    "# Compute mean and median\n",
    "mean_value_PiOver3 = np.mean(points_in_cap_per_grid_point_PiOver3)\n",
    "median_value_PiOver3 = np.median(points_in_cap_per_grid_point_PiOver3)\n",
    "\n",
    "# Plot mean and median as vertical lines\n",
    "plt.axvline(x=mean_value_PiOver3, color='green', linestyle='--', label='Mean: {:.2f}'.format(mean_value_PiOver3))\n",
    "plt.axvline(x=median_value_PiOver3, color='purple', linestyle='--', label='Median: {:.2f}'.format(median_value_PiOver3))\n",
    "\n",
    "# Add legend\n",
    "plt.legend()\n",
    "\n",
    "plt.savefig(\"RandomGridPMTsWithGap_PiOver3.pdf\", format='pdf')\n",
    "plt.show()\n"
   ],
   "id": "36da3f48bf5d0623",
   "execution_count": 197,
   "outputs": []
  },
  {
   "metadata": {
    "ExecuteTime": {
     "end_time": "2024-04-10T12:35:16.476038Z",
     "start_time": "2024-04-10T12:35:15.670416Z"
    }
   },
   "cell_type": "code",
   "source": [
    "# Compute histogram\n",
    "hist_values_PiOver6, bin_edges_PiOver6 = np.histogram(points_in_cap_per_grid_point_PiOver6, bins=np.arange(points_in_cap_per_grid_point_PiOver6.max() + 2))\n",
    "\n",
    "# Plot histogram\n",
    "plt.bar(bin_edges_PiOver6[:-1], hist_values_PiOver6, width=0.5, align='center')\n",
    "\n",
    "plt.xlabel('Number of points in cap')\n",
    "plt.xlim(250, 660)\n",
    "plt.ylabel('Number of directions')\n",
    "plt.title('Histogram of points in cap per direction')\n",
    "plt.grid(True)\n",
    "\n",
    "plt.axvline(x=peak_PiOver6*(N-400)/N, color='red', linestyle='--', label='Expected Peak: {}'.format(peak_PiOver6*(N-400)/N))\n",
    "\n",
    "# Compute mean and median\n",
    "mean_value_PiOver6 = np.mean(points_in_cap_per_grid_point_PiOver6)\n",
    "median_value_PiOver6 = np.median(points_in_cap_per_grid_point_PiOver6)\n",
    "\n",
    "# Plot mean and median as vertical lines\n",
    "plt.axvline(x=mean_value_PiOver6, color='green', linestyle='--', label='Mean: {:.2f}'.format(mean_value_PiOver6))\n",
    "plt.axvline(x=median_value_PiOver6, color='purple', linestyle='--', label='Median: {:.2f}'.format(median_value_PiOver6))\n",
    "\n",
    "# Add legend\n",
    "plt.legend()\n",
    "\n",
    "plt.savefig(\"RandomGridPMTsWithGap_PiOvr6.pdf\", format='pdf')\n",
    "plt.show()"
   ],
   "id": "d5bd1f5c45d2dd09",
   "execution_count": 198,
   "outputs": []
  },
  {
   "metadata": {
    "ExecuteTime": {
     "end_time": "2024-04-10T12:35:16.480442Z",
     "start_time": "2024-04-10T12:35:16.477172Z"
    }
   },
   "cell_type": "code",
   "source": [
    "peak_PiOver8 = peak_value(N, np.pi/8)\n",
    "print(\"peak should be at \"+str(peak_PiOver8)+\" for alpha = pi/8\")"
   ],
   "id": "56e347591d9051",
   "execution_count": 199,
   "outputs": []
  },
  {
   "metadata": {
    "ExecuteTime": {
     "end_time": "2024-04-10T12:37:34.974186Z",
     "start_time": "2024-04-10T12:35:16.481322Z"
    }
   },
   "cell_type": "code",
   "source": [
    "points_in_cap_per_grid_point_PiOver8 = np.zeros(len(points_set_2))\n",
    "\n",
    "for i in range(len(points_set_2)): #for each directions\n",
    "    \n",
    "    counter = 0\n",
    "    \n",
    "    for j in range(len(gappy_rescaled_data)): #for each of the N points\n",
    "        angle = angle_between_vectors(points_set_2[i], gappy_rescaled_data[j])\n",
    "        if angle < np.pi/8:\n",
    "            counter += 1\n",
    "    print('computed for i = '+str(i)+' out of '+str(len(points_set_2)))\n",
    "            \n",
    "    points_in_cap_per_grid_point_PiOver8[i] = counter"
   ],
   "id": "1f24c0e10dec6e35",
   "execution_count": 200,
   "outputs": []
  },
  {
   "metadata": {
    "ExecuteTime": {
     "end_time": "2024-04-10T12:37:35.504475Z",
     "start_time": "2024-04-10T12:37:34.974890Z"
    }
   },
   "cell_type": "code",
   "source": [
    "# Compute histogram\n",
    "hist_values_PiOver8, bin_edges_PiOver8 = np.histogram(points_in_cap_per_grid_point_PiOver8, bins=np.arange(points_in_cap_per_grid_point_PiOver8.max() + 2))\n",
    "\n",
    "# Plot histogram\n",
    "plt.bar(bin_edges_PiOver8[:-1], hist_values_PiOver8, width=0.5, align='center')\n",
    "\n",
    "plt.xlabel('Number of points in cap')\n",
    "#plt.xlim(250, 660)\n",
    "plt.ylabel('Number of directions')\n",
    "plt.title('Histogram of points in cap per direction')\n",
    "plt.grid(True)\n",
    "\n",
    "plt.axvline(x=peak_PiOver8*(N-400)/N, color='red', linestyle='--', label='Expected Peak: {}'.format(peak_PiOver8*(N-400)/N))\n",
    "# Compute mean and median\n",
    "mean_value_PiOver8 = np.mean(points_in_cap_per_grid_point_PiOver8)\n",
    "median_value_PiOver8 = np.median(points_in_cap_per_grid_point_PiOver8)\n",
    "\n",
    "# Plot mean and median as vertical lines\n",
    "plt.axvline(x=mean_value_PiOver8, color='green', linestyle='--', label='Mean: {:.2f}'.format(mean_value_PiOver8))\n",
    "plt.axvline(x=median_value_PiOver8, color='purple', linestyle='--', label='Median: {:.2f}'.format(median_value_PiOver8))\n",
    "\n",
    "# Add legend\n",
    "plt.legend()\n",
    "\n",
    "plt.savefig(\"RandomGridPMTsWithGap_PiOver8.pdf\", format='pdf')\n",
    "plt.show()"
   ],
   "id": "3f3b8b68815fa95b",
   "execution_count": 201,
   "outputs": []
  },
  {
   "metadata": {
    "ExecuteTime": {
     "end_time": "2024-04-10T12:40:00.243684Z",
     "start_time": "2024-04-10T12:37:35.505227Z"
    }
   },
   "cell_type": "code",
   "source": [
    "points_in_cap_per_grid_point_PiOver8 = np.zeros(len(points_set_2))\n",
    "\n",
    "for i in range(len(points_set_2)): #for each directions\n",
    "    \n",
    "    counter = 0\n",
    "    \n",
    "    for j in range(len(rescaled_data)): #for each of the N points\n",
    "        angle = angle_between_vectors(points_set_2[i], rescaled_data[j])\n",
    "        if angle < np.pi/8:\n",
    "            counter += 1\n",
    "    print('computed for i = '+str(i)+' out of '+str(len(points_set_2)))\n",
    "            \n",
    "    points_in_cap_per_grid_point_PiOver8[i] = counter"
   ],
   "id": "5c25caabe94febd5",
   "execution_count": 202,
   "outputs": []
  },
  {
   "metadata": {
    "ExecuteTime": {
     "end_time": "2024-04-10T12:40:00.860274Z",
     "start_time": "2024-04-10T12:40:00.244358Z"
    }
   },
   "cell_type": "code",
   "source": [
    "# Compute histogram\n",
    "hist_values_PiOver8, bin_edges_PiOver8 = np.histogram(points_in_cap_per_grid_point_PiOver8, bins=np.arange(points_in_cap_per_grid_point_PiOver8.max() + 2))\n",
    "\n",
    "# Plot histogram\n",
    "plt.bar(bin_edges_PiOver8[:-1], hist_values_PiOver8, width=0.5, align='center')\n",
    "\n",
    "plt.xlabel('Number of points in cap')\n",
    "plt.xlim(250, 400)\n",
    "plt.ylabel('Number of directions')\n",
    "plt.title('Histogram of points in cap per direction')\n",
    "plt.grid(True)\n",
    "\n",
    "plt.axvline(x=peak_PiOver8, color='red', linestyle='--', label='Expected Peak: {}'.format(peak_PiOver8))\n",
    "\n",
    "# Compute mean and median\n",
    "mean_value_PiOver8 = np.mean(points_in_cap_per_grid_point_PiOver8)\n",
    "median_value_PiOver8 = np.median(points_in_cap_per_grid_point_PiOver8)\n",
    "\n",
    "# Plot mean and median as vertical lines\n",
    "plt.axvline(x=mean_value_PiOver8, color='green', linestyle='--', label='Mean: {:.2f}'.format(mean_value_PiOver8))\n",
    "plt.axvline(x=median_value_PiOver8, color='purple', linestyle='--', label='Median: {:.2f}'.format(median_value_PiOver8))\n",
    "\n",
    "# Add legend\n",
    "plt.legend()\n",
    "\n",
    "plt.savefig(\"RandomGridTruePMTs_PiOver8.pdf\", format='pdf')\n",
    "plt.show()\n"
   ],
   "id": "c48f8812a5585556",
   "execution_count": 203,
   "outputs": []
  },
  {
   "metadata": {
    "ExecuteTime": {
     "end_time": "2024-04-10T12:40:00.863118Z",
     "start_time": "2024-04-10T12:40:00.861448Z"
    }
   },
   "cell_type": "code",
   "source": "",
   "id": "f3c0827e86a78293",
   "execution_count": 203,
   "outputs": []
  },
  {
   "metadata": {
    "ExecuteTime": {
     "end_time": "2024-04-10T12:40:00.865300Z",
     "start_time": "2024-04-10T12:40:00.863840Z"
    }
   },
   "cell_type": "code",
   "source": "",
   "id": "c6daabcdcc54438b",
   "execution_count": 203,
   "outputs": []
  },
  {
   "metadata": {
    "ExecuteTime": {
     "end_time": "2024-04-10T12:40:00.867603Z",
     "start_time": "2024-04-10T12:40:00.866109Z"
    }
   },
   "cell_type": "code",
   "source": "",
   "id": "8e54256a8d991472",
   "execution_count": 203,
   "outputs": []
  },
  {
   "metadata": {},
   "cell_type": "code",
   "execution_count": null,
   "source": "",
   "id": "aeafc6331db56bc1",
   "outputs": []
  }
 ],
 "metadata": {
  "kernelspec": {
   "display_name": "Python 3 (ipykernel)",
   "language": "python",
   "name": "python3"
  },
  "language_info": {
   "codemirror_mode": {
    "name": "ipython",
    "version": 3
   },
   "file_extension": ".py",
   "mimetype": "text/x-python",
   "name": "python",
   "nbconvert_exporter": "python",
   "pygments_lexer": "ipython3",
   "version": "3.10.12"
  }
 },
 "nbformat": 4,
 "nbformat_minor": 5
}

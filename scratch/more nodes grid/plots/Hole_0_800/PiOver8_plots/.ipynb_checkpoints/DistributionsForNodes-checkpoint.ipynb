{
 "cells": [
  {
   "cell_type": "markdown",
   "id": "e591719e5c03955b",
   "metadata": {},
   "source": [
    "Get PMT positions"
   ]
  },
  {
   "cell_type": "code",
   "execution_count": 1,
   "id": "f2dfdc04fc2fe050",
   "metadata": {
    "ExecuteTime": {
     "end_time": "2024-04-10T16:37:38.463271Z",
     "start_time": "2024-04-10T16:37:38.425532Z"
    }
   },
   "source": [
    "import numpy as np\n",
    "import matplotlib.pyplot as plt\n",
    "import math\n",
    "import random\n",
    "import csv\n",
    "import pandas as pd\n",
    "\n",
    "# Load the CSV file with pmt x, y z coordinates\n",
    "data = np.genfromtxt('pmt_positions.csv', delimiter=',', skip_header=1)\n",
    "data = data[800:]\n",
    "# rescale to vectors of length 1\n",
    "\n",
    "vector_lengths = np.linalg.norm(data, axis=1)\n",
    "rescaled_data = data / vector_lengths[:, np.newaxis]\n",
    "vector_lengths_rescaled = np.linalg.norm(rescaled_data, axis = 1)\n",
    "\n",
    "def cartesian_to_spherical(x, y, z):\n",
    "    r = np.sqrt(x**2 + y**2 + z**2)\n",
    "    phi = np.arctan2(y, x)\n",
    "    theta = np.arccos(z / r)\n",
    "    return r, phi, theta\n",
    "\n",
    "def convert_points_to_spherical(points):\n",
    "    points_set_polars = []\n",
    "    for point in points:\n",
    "        x = point[0]\n",
    "        y = point[1]\n",
    "        z = point[2]\n",
    "        r, phi, theta = cartesian_to_spherical(x, y, z)\n",
    "        points_set_polars.append((r, phi, theta))\n",
    "    return points_set_polars\n",
    "\n",
    "# transform to polars to plot\n",
    "\n",
    "points_polars = convert_points_to_spherical(rescaled_data)\n",
    "\n",
    "# separate coordinates to plot more easily\n"
   ],
   "outputs": []
  },
  {
   "cell_type": "code",
   "execution_count": 2,
   "id": "10266086a658267f",
   "metadata": {
    "ExecuteTime": {
     "end_time": "2024-04-10T16:37:38.705658Z",
     "start_time": "2024-04-10T16:37:38.700943Z"
    }
   },
   "source": [
    "points_phi = np.zeros(len(points_polars))\n",
    "points_theta = np.zeros(len(points_polars))\n",
    "\n",
    "for i in range(len(points_polars)):\n",
    "    points_phi[i] = points_polars[i][1]\n",
    "    points_theta[i] = points_polars[i][2]"
   ],
   "outputs": []
  },
  {
   "cell_type": "markdown",
   "id": "3e22c2c0cad56e6e",
   "metadata": {},
   "source": [
    "Get grid (nodes) phi and theta coordinates"
   ]
  },
  {
   "cell_type": "code",
   "execution_count": 3,
   "id": "7df72ab05c5fb8d2",
   "metadata": {
    "ExecuteTime": {
     "end_time": "2024-04-10T16:37:38.963962Z",
     "start_time": "2024-04-10T16:37:38.960726Z"
    }
   },
   "source": [
    "nodes = np.genfromtxt('More_Nodes_Grid.csv', delimiter=',', skip_header=1)"
   ],
   "outputs": []
  },
  {
   "cell_type": "code",
   "execution_count": 4,
   "id": "d0813f00-6726-4117-997e-802ad764539f",
   "metadata": {},
   "source": [
    "#make map with hole\n",
    "print(len(points_phi))\n",
    "print(len(points_theta))\n",
    "#points_phi = points_phi[400:]\n",
    "#points_theta = points_theta[400:]\n",
    "print(len(points_phi))\n",
    "print(len(points_theta))"
   ],
   "outputs": []
  },
  {
   "cell_type": "code",
   "execution_count": 5,
   "id": "ad264654-3a80-4516-be60-e957789c0052",
   "metadata": {},
   "source": [
    "# Unpack the clicked points\n",
    "points_phi_2, points_theta_2 = zip(*nodes)\n",
    "\n",
    "# Create a new plot including the clicked points\n",
    "plt.scatter(points_phi, points_theta, s=0.5, color='blue')  # Original points\n",
    "plt.scatter(points_phi_2, points_theta_2, s=3, color='red', label='Big Nodes')  # Clicked points in red\n",
    "\n",
    "plt.xlabel('Phi')\n",
    "plt.ylabel('Theta')\n",
    "plt.title('All PMTs with Clicked Points')\n",
    "\n",
    "plt.gca().set_aspect('equal', adjustable='box')\n",
    "plt.grid(True)\n",
    "plt.legend()\n",
    "\n",
    "# Save the plot as a PDF file\n",
    "plt.savefig('More_Nodes_Grid_Directions.pdf', format='pdf')\n",
    "\n",
    "plt.show()"
   ],
   "outputs": []
  },
  {
   "cell_type": "code",
   "execution_count": 6,
   "id": "4dc961a352baab07",
   "metadata": {
    "ExecuteTime": {
     "end_time": "2024-04-10T16:37:39.193732Z",
     "start_time": "2024-04-10T16:37:39.191055Z"
    }
   },
   "source": [
    "print(nodes.shape)\n"
   ],
   "outputs": []
  },
  {
   "cell_type": "code",
   "execution_count": 7,
   "id": "3301cdd0d7d537f8",
   "metadata": {
    "ExecuteTime": {
     "end_time": "2024-04-10T16:37:39.366570Z",
     "start_time": "2024-04-10T16:37:39.362954Z"
    }
   },
   "source": [
    "# Create an array filled with 1s for the first column\n",
    "column_of_ones = np.ones((nodes.shape[0], 1))\n",
    "\n",
    "# Stack the column of ones with the last two columns of the original array\n",
    "new_nodes = np.hstack((column_of_ones, nodes[:, 0].reshape(-1, 1), nodes[:, 1].reshape(-1, 1)))\n",
    "\n",
    "# Display new_nodes\n",
    "#print(new_nodes)"
   ],
   "outputs": []
  },
  {
   "cell_type": "code",
   "execution_count": 8,
   "id": "e55e48ee328eb0f5",
   "metadata": {
    "ExecuteTime": {
     "end_time": "2024-04-10T16:37:39.431676Z",
     "start_time": "2024-04-10T16:37:39.428364Z"
    }
   },
   "source": [
    "def spherical_to_cartesian(r, phi, theta):\n",
    "    x = r * np.cos(phi) * np.sin(theta)\n",
    "    y = r * np.sin(phi) * np.sin(theta)\n",
    "    z = r * np.cos(theta)\n",
    "    return x, y, z"
   ],
   "outputs": []
  },
  {
   "cell_type": "code",
   "execution_count": 9,
   "id": "a34808a27bb56939",
   "metadata": {
    "ExecuteTime": {
     "end_time": "2024-04-10T16:37:39.970489Z",
     "start_time": "2024-04-10T16:37:39.967144Z"
    }
   },
   "source": [
    "def convert_points_to_cartesian(points):\n",
    "    points_set_cartesians = []\n",
    "    for point in points:\n",
    "        r = point[0]\n",
    "        phi = point[1]\n",
    "        theta = point[2]\n",
    "        x, y, z = spherical_to_cartesian(r, phi, theta)\n",
    "        points_set_cartesians.append((x, y, z))\n",
    "    return points_set_cartesians"
   ],
   "outputs": []
  },
  {
   "cell_type": "code",
   "execution_count": 10,
   "id": "99f3a93d4d3c2402",
   "metadata": {
    "ExecuteTime": {
     "end_time": "2024-04-10T16:37:40.172608Z",
     "start_time": "2024-04-10T16:37:40.169055Z"
    }
   },
   "source": [
    "#function that computes the angle between two vectors\n",
    "\n",
    "def angle_between_vectors(v1, v2):\n",
    "    dot_product = np.dot(v1, v2)\n",
    "    magnitude_v1 = np.linalg.norm(v1)\n",
    "    magnitude_v2 = np.linalg.norm(v2)\n",
    "    cosine_angle = dot_product / (magnitude_v1 * magnitude_v2)\n",
    "    angle_rad = np.arccos(np.clip(cosine_angle, -1.0, 1.0))\n",
    "    return angle_rad"
   ],
   "outputs": []
  },
  {
   "cell_type": "code",
   "execution_count": 11,
   "id": "ab5820495bc8be6f",
   "metadata": {
    "ExecuteTime": {
     "end_time": "2024-04-10T16:37:40.369634Z",
     "start_time": "2024-04-10T16:37:40.366759Z"
    }
   },
   "source": [
    "points_set_2 = convert_points_to_cartesian(new_nodes)"
   ],
   "outputs": []
  },
  {
   "cell_type": "code",
   "execution_count": 12,
   "id": "81e8c38e9d5bcafd",
   "metadata": {
    "ExecuteTime": {
     "end_time": "2024-04-10T16:37:40.589239Z",
     "start_time": "2024-04-10T16:37:40.586762Z"
    }
   },
   "source": [
    "# find and plot points in cap defined by one of the points first\n"
   ],
   "outputs": []
  },
  {
   "cell_type": "code",
   "execution_count": null,
   "id": "351689abeba1ce87",
   "metadata": {
    "ExecuteTime": {
     "end_time": "2024-04-10T16:38:28.735132Z",
     "start_time": "2024-04-10T16:37:40.639001Z"
    }
   },
   "source": [
    "points_in_cap_count = np.zeros((len(points_set_2)))\n",
    "\n",
    "for i in range(len(points_set_2)):\n",
    "    cap_center = points_set_2[i]\n",
    "    cap_center_polars = new_nodes[i]\n",
    "    points_in_cap_set = []\n",
    "    \n",
    "    \n",
    "    pi_over = 8\n",
    "    \n",
    "    for j in range(len(rescaled_data)):\n",
    "        angle = angle_between_vectors(cap_center, rescaled_data[j])\n",
    "        if angle < np.pi/pi_over:\n",
    "            points_in_cap_set.append(rescaled_data[j])\n",
    "            \n",
    "    points_in_cap_set = np.array(points_in_cap_set)\n",
    "    \n",
    "    points_in_cap_polars = convert_points_to_spherical(points_in_cap_set)\n",
    "    \n",
    "    points_phi_cap = np.zeros(len(points_in_cap_polars))\n",
    "    points_theta_cap = np.zeros(len(points_in_cap_polars))\n",
    "    \n",
    "    for j in range(len(points_in_cap_polars)):\n",
    "        points_phi_cap[j] = points_in_cap_polars[j][1]\n",
    "        points_theta_cap[j] = points_in_cap_polars[j][2]\n",
    "        \n",
    "    # Plot the grid points\n",
    "    # Plot points_phi and points_theta\n",
    "    plt.scatter(points_phi, points_theta, s=0.5, color='blue', label='other PMTs')\n",
    "    # Plot points_phi_cap and points_theta_cap\n",
    "    plt.scatter(points_phi_cap, points_theta_cap, s=0.5, color='plum', label='PMTs in Cap')\n",
    "    # Plot cap_center_polars\n",
    "    plt.scatter(cap_center_polars[1], cap_center_polars[2], s=2, color='red', label='Cap Center')\n",
    "    \n",
    "    # Count of points in the cap\n",
    "    points_in_cap_count[i] = len(points_in_cap_set)\n",
    "\n",
    "    # Add legend with count of points in the cap\n",
    "    plt.legend(title='Points In Cap = {}'.format(points_in_cap_count[i]))\n",
    "    \n",
    "    # Set x-axis ticks\n",
    "    plt.xticks(np.linspace(-np.pi, np.pi, 5), \n",
    "               ['$-\\pi$', '$-\\pi/2$', '$0$', '$\\pi/2$', '$\\pi$'])\n",
    "    \n",
    "    # Set y-axis ticks\n",
    "    plt.yticks(np.linspace(0, np.pi, 3), \n",
    "               ['$0$', '$\\pi/2$', '$\\pi$'])\n",
    "    \n",
    "    plt.xlabel('Phi')\n",
    "    plt.ylabel('Theta')\n",
    "    plt.title('Cap Around Node '+str(i)+', alpha = $\\pi$/'+str(pi_over))\n",
    "    # Set aspect ratio to 'equal'\n",
    "    plt.gca().set_aspect('equal', adjustable='box')\n",
    "    \n",
    "    plt.savefig('CapAroundNode'+str(i)+'_PiOver'+str(pi_over)+'.pdf', format='pdf')\n",
    "    \n",
    "    plt.grid(True)\n",
    "    plt.show()"
   ],
   "outputs": []
  },
  {
   "cell_type": "code",
   "execution_count": null,
   "id": "45505fe48d70881d",
   "metadata": {
    "ExecuteTime": {
     "end_time": "2024-04-10T16:38:28.738568Z",
     "start_time": "2024-04-10T16:38:28.736069Z"
    }
   },
   "source": [
    "# calculate peaks\n",
    "\n",
    "def peak_value(N, alpha):\n",
    "    return N * (1 - np.cos(alpha))/2\n",
    "\n",
    "N = len(points_phi)\n",
    "\n",
    "peak = peak_value(N, np.pi/pi_over)\n"
   ],
   "outputs": []
  },
  {
   "cell_type": "code",
   "execution_count": null,
   "id": "9e237794c0213e2b",
   "metadata": {
    "ExecuteTime": {
     "end_time": "2024-04-10T16:38:31.670648Z",
     "start_time": "2024-04-10T16:38:28.739812Z"
    }
   },
   "source": [
    "# Compute histogram\n",
    "hist_values, bin_edges = np.histogram(points_in_cap_count, bins=np.arange(points_in_cap_count.max() + 2))\n",
    "\n",
    "# Plot histogram\n",
    "plt.bar(bin_edges[:-1], hist_values, width=0.5, align='center')\n",
    "\n",
    "plt.xlabel('Number of points in cap')\n",
    "\n",
    "# Find the first non-zero bin edge\n",
    "non_zero_index = np.nonzero(hist_values)[0][0]\n",
    "\n",
    "# Automatically adjust x-axis limits\n",
    "xmin = bin_edges[non_zero_index] - 20\n",
    "xmax = max(bin_edges) + 20\n",
    "plt.xlim(xmin, xmax)\n",
    "\n",
    "plt.ylabel('Number of directions')\n",
    "plt.title('Histogram of points in cap per direction')\n",
    "plt.grid(True)\n",
    "\n",
    "plt.axvline(x=peak, color='red', linestyle='--', label='Expected Peak: {}'.format(peak))\n",
    "\n",
    "# Compute mean and median\n",
    "mean_value = np.mean(points_in_cap_count)\n",
    "median_value = np.median(points_in_cap_count)\n",
    "\n",
    "# Plot mean and median as vertical lines\n",
    "plt.axvline(x=mean_value, color='green', linestyle='--', label='Mean: {:.2f}'.format(mean_value))\n",
    "plt.axvline(x=median_value, color='purple', linestyle='--', label='Median: {:.2f}'.format(median_value))\n",
    "\n",
    "# Add legend\n",
    "plt.legend()\n",
    "\n",
    "plt.savefig(\"MoreNodesGrid_0_400_Hole_PiOver\" + str(pi_over)+\".pdf\", format='pdf')\n",
    "plt.show()"
   ],
   "outputs": []
  },
  {
   "cell_type": "code",
   "execution_count": null,
   "id": "e145b040ef89ee1c",
   "metadata": {
    "ExecuteTime": {
     "end_time": "2024-04-10T16:38:31.673633Z",
     "start_time": "2024-04-10T16:38:31.672046Z"
    }
   },
   "source": [
    "# Compute histogram\n",
    "hist_values, bin_edges = np.histogram(points_in_cap_count, bins=np.arange(points_in_cap_count.max() + 2))\n",
    "\n",
    "# Plot histogram\n",
    "plt.bar(bin_edges[:-1], hist_values, width=0.5, align='center')\n",
    "\n",
    "plt.xlabel('Number of points in cap')\n",
    "\n",
    "# Find the first non-zero bin edge\n",
    "non_zero_index = np.nonzero(hist_values)[0][0]\n",
    "\n",
    "# Automatically adjust x-axis limits\n",
    "xmin = bin_edges[non_zero_index] - 20\n",
    "xmax = max(bin_edges) + 20\n",
    "plt.xlim(xmin, xmax)\n",
    "\n",
    "plt.ylabel('Number of directions')\n",
    "plt.title('Histogram of points in cap per direction')\n",
    "plt.grid(True)\n",
    "\n",
    "plt.axvline(x=peak, color='red', linestyle='--', label='Expected Peak: {}'.format(peak))\n",
    "\n",
    "# Compute mean, median, and variance\n",
    "mean_value = np.mean(points_in_cap_count)\n",
    "median_value = np.median(points_in_cap_count)\n",
    "variance_value = np.var(points_in_cap_count)\n",
    "sqrt_variance = variance_value**0.5\n",
    "# Plot mean, median, and variance as vertical lines\n",
    "plt.axvline(x=mean_value, color='green', linestyle='--', label='Mean: {:.2f}'.format(mean_value))\n",
    "plt.axvline(x=median_value, color='purple', linestyle='--', label='Median: {:.2f}'.format(median_value))\n",
    "\n",
    "# Add variance to legend\n",
    "plt.text(0.95, 0.5, 'sqrtVariance: {:.2f}'.format(sqrt_variance), horizontalalignment='right', verticalalignment='center', transform=plt.gca().transAxes, bbox=dict(facecolor='white', alpha=0.5))\n",
    "\n",
    "# Add legend\n",
    "plt.legend()\n",
    "\n",
    "plt.savefig(\"MoreNodesGrid_withVar_0_400_Hole_PiOver\"+ str(pi_over)+\".pdf\", format='pdf')\n",
    "plt.show()"
   ],
   "outputs": []
  },
  {
   "cell_type": "code",
   "execution_count": null,
   "id": "31f6983130802819",
   "metadata": {
    "ExecuteTime": {
     "end_time": "2024-04-10T16:38:31.675849Z",
     "start_time": "2024-04-10T16:38:31.674290Z"
    }
   },
   "source": [],
   "outputs": []
  },
  {
   "cell_type": "code",
   "execution_count": 27,
   "id": "959427cf60d0e6cc",
   "metadata": {
    "ExecuteTime": {
     "end_time": "2024-04-10T16:35:32.055459Z",
     "start_time": "2024-04-10T16:35:32.054205Z"
    }
   },
   "source": [],
   "outputs": []
  },
  {
   "cell_type": "code",
   "execution_count": 27,
   "id": "6eead573dc473f2f",
   "metadata": {
    "ExecuteTime": {
     "end_time": "2024-04-10T16:35:32.057335Z",
     "start_time": "2024-04-10T16:35:32.055925Z"
    }
   },
   "source": [],
   "outputs": []
  },
  {
   "cell_type": "code",
   "execution_count": null,
   "id": "2ec464878f074e3a",
   "metadata": {},
   "source": [],
   "outputs": []
  }
 ],
 "metadata": {
  "kernelspec": {
   "display_name": "Python 3 (ipykernel)",
   "language": "python",
   "name": "python3"
  },
  "language_info": {
   "codemirror_mode": {
    "name": "ipython",
    "version": 3
   },
   "file_extension": ".py",
   "mimetype": "text/x-python",
   "name": "python",
   "nbconvert_exporter": "python",
   "pygments_lexer": "ipython3",
   "version": "3.10.12"
  }
 },
 "nbformat": 4,
 "nbformat_minor": 5
}

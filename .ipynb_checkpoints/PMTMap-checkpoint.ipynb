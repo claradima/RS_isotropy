{
 "cells": [
  {
   "cell_type": "markdown",
   "id": "961bf76c-6fe7-4031-a3a7-1823db0c1308",
   "metadata": {},
   "source": [
    "The purpose of this notebook is to compute the points-in-cap-per-direction distribution that I described in the previous notebook, but for the actual PMT positions. I obtained the PMT positions in x, y, z and put them in the pmt_positions.csv file, which I'll read. Then, I'll reuse some of the code I wrote in the other notebooks to rescale their positions so that the radius of the sphere is 1, and plot their positions in a $\\phi - \\theta$ plot. Then I'll compute and plot the distribution and calculate some of its properties.\n",
    "\n",
    "Cool, let's go!"
   ]
  },
  {
   "cell_type": "code",
   "execution_count": 4,
   "id": "ddcaf239-2027-4c9b-bf91-58a37a188fed",
   "metadata": {},
   "source": [
    "import numpy as np\n",
    "import matplotlib.pyplot as plt\n",
    "import math\n",
    "import random\n",
    "import csv"
   ],
   "outputs": []
  },
  {
   "cell_type": "code",
   "execution_count": 22,
   "id": "7238df7b-d517-40ac-b071-14b2d9b564d1",
   "metadata": {},
   "source": [
    "# Load the CSV file\n",
    "data = np.genfromtxt('pmt_positions.csv', delimiter=',', skip_header=1)"
   ],
   "outputs": []
  },
  {
   "cell_type": "code",
   "execution_count": 23,
   "id": "772fbadb-8120-4ab7-8fe9-d928ca6cadb7",
   "metadata": {},
   "source": [
    "print(len(x_array_1))"
   ],
   "outputs": []
  },
  {
   "cell_type": "markdown",
   "id": "d6dadb6a-4a5c-4c65-9e8e-66bc0ae14d88",
   "metadata": {},
   "source": [
    "I accidentally kept PMTs that I didn't want, rerun code to make csv file. Anyway, I want to compute all the vector lengths to see which ones are reasonable."
   ]
  },
  {
   "cell_type": "code",
   "execution_count": 24,
   "id": "4035cb56-43ec-444a-848b-c4e4366ca57f",
   "metadata": {},
   "source": [
    "vector_lengths = np.linalg.norm(data, axis=1)\n",
    "print(vector_lengths)"
   ],
   "outputs": []
  },
  {
   "cell_type": "markdown",
   "id": "9d9db37c-c461-4238-882b-1f2733759a22",
   "metadata": {},
   "source": [
    "It seems like all the vector lengths are between 8399 and 8424, so these are pretty close to each other, as expected. I think we have more PMTs than expected but let's keep going. Rescale data so that everything is on a sphere of radius 1:"
   ]
  },
  {
   "cell_type": "code",
   "execution_count": 25,
   "id": "fffbae5a-e7bb-4a9f-a3db-1da4b9a8103e",
   "metadata": {},
   "source": [
    "rescaled_data = data / vector_lengths[:, np.newaxis]"
   ],
   "outputs": []
  },
  {
   "cell_type": "code",
   "execution_count": 27,
   "id": "6ef966da-faa0-4c8b-be5d-abd3efb2cd8d",
   "metadata": {},
   "source": [
    "vector_lengths_rescaled = np.linalg.norm(rescaled_data, axis = 1)\n",
    "print(vector_lengths_rescaled)"
   ],
   "outputs": []
  },
  {
   "cell_type": "code",
   "execution_count": 28,
   "id": "61b8cada-4e96-432b-bb74-2d3e867e4987",
   "metadata": {},
   "source": [
    "def cartesian_to_spherical(x, y, z):\n",
    "    r = np.sqrt(x**2 + y**2 + z**2)\n",
    "    phi = np.arctan2(y, x)\n",
    "    theta = np.arccos(z / r)\n",
    "    return r, phi, theta\n",
    "\n",
    "def convert_points_to_spherical(points):\n",
    "    points_set_polars = []\n",
    "    for point in points:\n",
    "        x = point[0]\n",
    "        y = point[1]\n",
    "        z = point[2]\n",
    "        r, phi, theta = cartesian_to_spherical(x, y, z)\n",
    "        points_set_polars.append((r, phi, theta))\n",
    "    return points_set_polars"
   ],
   "outputs": []
  },
  {
   "cell_type": "code",
   "execution_count": 29,
   "id": "05809ed5-92c1-43b5-8b19-59e78a1f5702",
   "metadata": {},
   "source": [
    "points_polars = convert_points_to_spherical(rescaled_data)"
   ],
   "outputs": []
  },
  {
   "cell_type": "code",
   "execution_count": 30,
   "id": "3150600c-5e46-4893-9720-94e2fe5c482f",
   "metadata": {},
   "source": [
    "points_phi = np.zeros(len(points_polars))\n",
    "points_theta = np.zeros(len(points_polars))\n",
    "\n",
    "for i in range(len(points_polars)):\n",
    "    points_phi[i] = points_polars[i][1]\n",
    "    points_theta[i] = points_polars[i][2]"
   ],
   "outputs": []
  },
  {
   "cell_type": "code",
   "execution_count": 102,
   "id": "58443526-3a13-44a7-a8fe-01a35740f316",
   "metadata": {},
   "source": [
    "#Plot points on 2D map\n",
    "\n",
    "plt.scatter(points_phi, points_theta, s = 0.5, color = 'blue', marker = 'o')\n",
    "\n",
    "plt.xlabel('Phi')\n",
    "plt.ylabel('Theta')\n",
    "plt.title('Points on a Sphere')\n",
    "plt.grid(True)\n",
    "\n",
    "plt.savefig('PMTMap.pdf', format='pdf')\n",
    "plt.show()"
   ],
   "outputs": []
  },
  {
   "cell_type": "markdown",
   "id": "4e172719-68ec-4058-a089-fd844258fda3",
   "metadata": {},
   "source": [
    "This looks just as I expected, which is great! Now we want the distributions. Will generate some random directions to begin with"
   ]
  },
  {
   "cell_type": "code",
   "execution_count": 42,
   "id": "ce0ad250-dfab-43f3-8bca-28874ad7b8ca",
   "metadata": {},
   "source": [
    "def generate_random_numbers(m, n, count):\n",
    "    return np.random.uniform(m, n, count)"
   ],
   "outputs": []
  },
  {
   "cell_type": "code",
   "execution_count": 43,
   "id": "86c8e4a2-715e-49a5-80cc-1cf410122ec7",
   "metadata": {},
   "source": [
    "def generate_points(N):\n",
    "    x_array = generate_random_numbers(-1, 1, N)\n",
    "    y_array = generate_random_numbers(-1, 1, N)\n",
    "    z_array = generate_random_numbers(-1, 1, N)\n",
    "    return x_array, y_array, z_array"
   ],
   "outputs": []
  },
  {
   "cell_type": "code",
   "execution_count": 44,
   "id": "03561411-2a73-438e-86e9-c124e59f66cb",
   "metadata": {},
   "source": [
    "#next three cells: make direction (vector u) arrays\n",
    "\n",
    "grid_size_1d_2 = 2400"
   ],
   "outputs": []
  },
  {
   "cell_type": "code",
   "execution_count": 45,
   "id": "2fd5a13d-f529-494a-b742-6b2acd09ed23",
   "metadata": {},
   "source": [
    "x_array_2, y_array_2, z_array_2 = generate_points(grid_size_1d_2)"
   ],
   "outputs": []
  },
  {
   "cell_type": "code",
   "execution_count": 46,
   "id": "8ee99ef2-9a0b-4c22-814b-d1c6ca483964",
   "metadata": {},
   "source": [
    "points_set_2 = []\n",
    "\n",
    "\n",
    "for i in range(grid_size_1d_2):\n",
    "    vector_length = (x_array_2[i]**2 + y_array_2[i]**2 + z_array_2[i]**2)**(1/2)\n",
    "    \n",
    "    if vector_length <= 1:\n",
    "        points_set_2.append(np.array([x_array_2[i] / vector_length, y_array_2[i] / vector_length, z_array_2[i] / vector_length]))\n",
    "\n",
    "points_set_2 = np.array(points_set_2)\n",
    "print(points_set_2)        \n",
    "\n",
    "print(len(points_set_2))"
   ],
   "outputs": []
  },
  {
   "cell_type": "code",
   "execution_count": 47,
   "id": "6c8d8447-627f-4a94-b037-f9f91e4cd6c6",
   "metadata": {},
   "source": [
    "points_set_polars_2 = convert_points_to_spherical(points_set_2)"
   ],
   "outputs": []
  },
  {
   "cell_type": "code",
   "execution_count": 48,
   "id": "deb3296b-ac0e-49a7-a93e-be30a4266371",
   "metadata": {},
   "source": [
    "#convert u arrays to spherical polars as well\n",
    "\n",
    "points_phi_2 = np.zeros(len(points_set_polars_2))\n",
    "points_theta_2 = np.zeros(len(points_set_polars_2))\n",
    "\n",
    "for i in range(len(points_set_polars_2)):\n",
    "    points_phi_2[i] = points_set_polars_2[i][1]\n",
    "    points_theta_2[i] = points_set_polars_2[i][2]"
   ],
   "outputs": []
  },
  {
   "cell_type": "code",
   "execution_count": 116,
   "id": "50290a26-42ed-403e-b94b-9aeb7cac8146",
   "metadata": {},
   "source": [
    "# Plot the grid points\n",
    "plt.scatter(points_phi, points_theta, s=0.5, color='blue')  # Adjust marker size and color as needed\n",
    "plt.scatter(points_phi_2, points_theta_2, s=2, color='red')\n",
    "\n",
    "# Set x-axis ticks\n",
    "plt.xticks(np.linspace(-np.pi, np.pi, 5), \n",
    "           ['$-\\pi$', '$-\\pi/2$', '$0$', '$\\pi/2$', '$\\pi$'])\n",
    "\n",
    "# Set y-axis ticks\n",
    "plt.yticks(np.linspace(0, np.pi/2, 3), \n",
    "           ['$-\\pi/2$', '$0$', '$\\pi/2$'])\n",
    "\n",
    "plt.xlabel('Phi')\n",
    "plt.ylabel('Theta')\n",
    "plt.title('Points on a Sphere')\n",
    "\n",
    "# Set aspect ratio to 'equal'\n",
    "plt.gca().set_aspect('equal', adjustable='box')\n",
    "\n",
    "plt.savefig('PMTMapWithDirections.pdf', format='pdf')\n",
    "\n",
    "plt.grid(True)\n",
    "plt.show()\n"
   ],
   "outputs": []
  },
  {
   "cell_type": "code",
   "execution_count": 52,
   "id": "1a14e806-1b15-46b1-bdc7-3e8cdc95667f",
   "metadata": {},
   "source": [
    "#function that computes the angle between two vectors\n",
    "\n",
    "def angle_between_vectors(v1, v2):\n",
    "    dot_product = np.dot(v1, v2)\n",
    "    magnitude_v1 = np.linalg.norm(v1)\n",
    "    magnitude_v2 = np.linalg.norm(v2)\n",
    "    cosine_angle = dot_product / (magnitude_v1 * magnitude_v2)\n",
    "    angle_rad = np.arccos(np.clip(cosine_angle, -1.0, 1.0))\n",
    "    return angle_rad"
   ],
   "outputs": []
  },
  {
   "cell_type": "code",
   "execution_count": 105,
   "id": "c7ade526-3d18-46b9-ae5f-dc828480e0a4",
   "metadata": {},
   "source": [
    "points_in_cap_per_grid_point = np.zeros(len(points_set_2))"
   ],
   "outputs": []
  },
  {
   "cell_type": "code",
   "execution_count": 106,
   "id": "81dedbde-ade2-4b10-93bc-a23b716f8131",
   "metadata": {},
   "source": [
    "for i in range(len(points_set_2)): #for each directions\n",
    "    \n",
    "    counter = 0\n",
    "    \n",
    "    for j in range(len(rescaled_data)): #for each of the N points\n",
    "        angle = angle_between_vectors(points_set_2[i], rescaled_data[j])\n",
    "        if angle < np.pi/4:\n",
    "            counter += 1\n",
    "    print('computed for i = '+str(i)+' out of '+str(len(points_set_2)))\n",
    "            \n",
    "    points_in_cap_per_grid_point[i] = counter"
   ],
   "outputs": []
  },
  {
   "cell_type": "code",
   "execution_count": 107,
   "id": "2f3fda86-eade-4196-bc2d-1aaf5100cb4f",
   "metadata": {},
   "source": [
    "# Compute histogram\n",
    "hist_values_PiOver4, bin_edges_PiOver4 = np.histogram(points_in_cap_per_grid_point, bins=np.arange(points_in_cap_per_grid_point.max() + 2))\n",
    "\n",
    "# Plot histogram\n",
    "plt.bar(bin_edges_PiOver4[:-1], hist_values_PiOver4, width=0.5, align='center')\n",
    "\n",
    "plt.xlabel('Number of points in cap')\n",
    "plt.xlim(1290, 1420)\n",
    "plt.ylabel('Number of directions')\n",
    "plt.title('Histogram of points in cap per direction')\n",
    "plt.grid(True)\n",
    "\n",
    "plt.savefig(\"RandomGridTruePMTs_\"+str(len(points_set_1))+\"Points_PiOver4.png\")\n",
    "plt.show()"
   ],
   "outputs": []
  },
  {
   "cell_type": "code",
   "execution_count": 108,
   "id": "ae041360-1011-4096-a33f-48de4699ed7b",
   "metadata": {},
   "source": [
    "points_in_cap_per_grid_point_PiOver3 = np.zeros(len(points_set_2))\n",
    "\n",
    "for i in range(len(points_set_2)): #for each directions\n",
    "    \n",
    "    counter = 0\n",
    "    \n",
    "    for j in range(len(rescaled_data)): #for each of the N points\n",
    "        angle = angle_between_vectors(points_set_2[i], rescaled_data[j])\n",
    "        if angle < np.pi/3:\n",
    "            counter += 1\n",
    "    print('computed for i = '+str(i)+' out of '+str(len(points_set_2)))\n",
    "            \n",
    "    points_in_cap_per_grid_point_PiOver3[i] = counter"
   ],
   "outputs": []
  },
  {
   "cell_type": "code",
   "execution_count": 109,
   "id": "7ca1a9bb-b523-43ef-8689-35f36a8f64cd",
   "metadata": {},
   "source": [
    "# Compute histogram\n",
    "hist_values_PiOver3, bin_edges_PiOver3 = np.histogram(points_in_cap_per_grid_point_PiOver3, bins=np.arange(points_in_cap_per_grid_point_PiOver3.max() + 2))\n",
    "\n",
    "# Plot histogram\n",
    "plt.bar(bin_edges_PiOver3[:-1], hist_values_PiOver3, width=0.5, align='center')\n",
    "\n",
    "plt.xlabel('Number of points in cap')\n",
    "plt.xlim(2230,2400)\n",
    "plt.ylabel('Number of directions')\n",
    "plt.title('Histogram of points in cap per direction')\n",
    "plt.grid(True)\n",
    "\n",
    "plt.savefig(\"RandomGridTruePMTs_\"+str(len(points_set_1))+\"Points_PiOver3.png\")\n",
    "plt.show()"
   ],
   "outputs": []
  },
  {
   "cell_type": "code",
   "execution_count": 110,
   "id": "478d1666-0815-4822-8391-72b1aad5fde5",
   "metadata": {},
   "source": [
    "points_in_cap_per_grid_point_PiOver6 = np.zeros(len(points_set_2))\n",
    "\n",
    "for i in range(len(points_set_2)): #for each directions\n",
    "    \n",
    "    counter = 0\n",
    "    \n",
    "    for j in range(len(rescaled_data)): #for each of the N points\n",
    "        angle = angle_between_vectors(points_set_2[i], rescaled_data[j])\n",
    "        if angle < np.pi/6:\n",
    "            counter += 1\n",
    "    print('computed for i = '+str(i)+' out of '+str(len(points_set_2)))\n",
    "            \n",
    "    points_in_cap_per_grid_point_PiOver6[i] = counter"
   ],
   "outputs": []
  },
  {
   "cell_type": "code",
   "execution_count": 111,
   "id": "2a25daab-95d5-4ffd-a456-05905f02467c",
   "metadata": {},
   "source": [
    "# Compute histogram\n",
    "hist_values_PiOver6, bin_edges_PiOver6 = np.histogram(points_in_cap_per_grid_point_PiOver6, bins=np.arange(points_in_cap_per_grid_point.max() + 2))\n",
    "\n",
    "# Plot histogram\n",
    "plt.bar(bin_edges_PiOver6[:-1], hist_values_PiOver6, width=0.5, align='center')\n",
    "\n",
    "plt.xlabel('Number of points in cap')\n",
    "plt.xlim(550, 660)\n",
    "plt.ylabel('Number of directions')\n",
    "plt.title('Histogram of points in cap per direction')\n",
    "plt.grid(True)\n",
    "\n",
    "plt.savefig(\"RandomGridTruePMTs_\"+str(len(points_set_1))+\"Points_PiOver6.png\")\n",
    "plt.show()"
   ],
   "outputs": []
  },
  {
   "cell_type": "markdown",
   "id": "23591dcd-0fcb-4e0b-afe0-b499dfe55b89",
   "metadata": {},
   "source": [
    "They all seem to have one big peak, and one smaller peak to the left of the big peak. Check if values of the big peak centered around expected value. From other notebooks: For an isotropic distribution of the N points on the sphere, we expect this to be sharply peaked around $N \\cdot \\frac{A_{cap}}{A_{sphere}}$. "
   ]
  },
  {
   "cell_type": "markdown",
   "id": "73f9023a-5909-4e6b-b3ea-0b9052107682",
   "metadata": {},
   "source": [
    "We know that $N = 9389$ (the number of PMTs). The area of the sphere is $A_{sphere} = 4 \\pi r^2 = 4\\pi$ (because the radius is 1). The area of the cap is $A_{cap} = 2 \\pi r^2 (1 - \\mathrm{cos}\\alpha) = 2 \\pi (1 - \\mathrm{cos} \\alpha)$, so the peak should be around:\n",
    "\n",
    "$$N \\cdot \\frac{A_{cap}}{A_{sphere}} = N \\cdot \\frac{2 \\pi (1 - \\mathrm{cos} \\alpha)}{4\\pi} = N \\cdot \\frac{1 - \\mathrm{cos} \\alpha}{2}$$"
   ]
  },
  {
   "cell_type": "code",
   "execution_count": 112,
   "id": "d565521a-7440-43ea-8c7c-479d73f3492b",
   "metadata": {},
   "source": [
    "# calculate peaks\n",
    "\n",
    "def peak_value(N, alpha):\n",
    "    return N * (1 - np.cos(alpha))/2"
   ],
   "outputs": []
  },
  {
   "cell_type": "code",
   "execution_count": 113,
   "id": "8a952b90-eac0-4d30-ba8e-be5bd59db6c1",
   "metadata": {},
   "source": [
    "N = 9389"
   ],
   "outputs": []
  },
  {
   "cell_type": "code",
   "execution_count": 114,
   "id": "dd9c5d53-9597-4ac9-9b7f-408b63d9cf2f",
   "metadata": {},
   "source": [
    "peak_PiOver3 = peak_value(N, np.pi/3)\n",
    "print(\"peak should be at \"+str(peak_PiOver3)+\" for alpha = pi/3\")\n",
    "peak_PiOver4 = peak_value(N, np.pi/4)\n",
    "print(\"peak should be at \"+str(peak_PiOver4)+\" for alpha = pi/4\")\n",
    "peak_PiOver6 = peak_value(N, np.pi/6)\n",
    "print(\"peak should be at \"+str(peak_PiOver6)+\" for alpha = pi/6\")"
   ],
   "outputs": []
  },
  {
   "cell_type": "markdown",
   "id": "0fbcff44-69fe-4c3e-9a68-dcfbb5c622e9",
   "metadata": {},
   "source": [
    "Remake plots:"
   ]
  },
  {
   "cell_type": "code",
   "execution_count": 126,
   "id": "f5f5a4cd-e8b3-4960-bcc7-ee1e55c42487",
   "metadata": {},
   "source": [
    "# Compute histogram\n",
    "hist_values_PiOver4, bin_edges_PiOver4 = np.histogram(points_in_cap_per_grid_point, bins=np.arange(points_in_cap_per_grid_point.max() + 2))\n",
    "\n",
    "# Plot histogram\n",
    "plt.bar(bin_edges_PiOver4[:-1], hist_values_PiOver4, width=0.5, align='center')\n",
    "\n",
    "plt.xlabel('Number of points in cap')\n",
    "plt.xlim(1290, 1420)\n",
    "plt.ylabel('Number of directions')\n",
    "plt.title('Histogram of points in cap per direction')\n",
    "plt.grid(True)\n",
    "\n",
    "plt.axvline(x=peak_PiOver4, color='red', linestyle='--', label='Expected Peak: {}'.format(peak_PiOver4))\n",
    "\n",
    "# Compute mean and median\n",
    "mean_value = np.mean(points_in_cap_per_grid_point)\n",
    "median_value = np.median(points_in_cap_per_grid_point)\n",
    "\n",
    "# Plot mean and median as vertical lines\n",
    "plt.axvline(x=mean_value, color='green', linestyle='--', label='Mean: {:.2f}'.format(mean_value))\n",
    "plt.axvline(x=median_value, color='purple', linestyle='--', label='Median: {:.2f}'.format(median_value))\n",
    "\n",
    "# Add legend\n",
    "plt.legend()\n",
    "\n",
    "plt.savefig(\"RandomGridTruePMTs_\"+str(len(points_set_1))+\"Points_PiOver4.png\")\n",
    "plt.show()\n"
   ],
   "outputs": []
  },
  {
   "cell_type": "code",
   "execution_count": 127,
   "id": "8269953b-f03d-4451-be23-f532bca5b1c7",
   "metadata": {},
   "source": [
    "# Compute histogram\n",
    "hist_values_PiOver3, bin_edges_PiOver3 = np.histogram(points_in_cap_per_grid_point_PiOver3, bins=np.arange(points_in_cap_per_grid_point_PiOver3.max() + 2))\n",
    "\n",
    "# Plot histogram\n",
    "plt.bar(bin_edges_PiOver3[:-1], hist_values_PiOver3, width=0.5, align='center')\n",
    "\n",
    "plt.xlabel('Number of points in cap')\n",
    "plt.xlim(2230, 2400)\n",
    "plt.ylabel('Number of directions')\n",
    "plt.title('Histogram of points in cap per direction')\n",
    "plt.grid(True)\n",
    "\n",
    "plt.axvline(x=peak_PiOver3, color='red', linestyle='--', label='Expected Peak: {}'.format(peak_PiOver3))\n",
    "\n",
    "# Compute mean and median\n",
    "mean_value_PiOver3 = np.mean(points_in_cap_per_grid_point_PiOver3)\n",
    "median_value_PiOver3 = np.median(points_in_cap_per_grid_point_PiOver3)\n",
    "\n",
    "# Plot mean and median as vertical lines\n",
    "plt.axvline(x=mean_value_PiOver3, color='green', linestyle='--', label='Mean: {:.2f}'.format(mean_value_PiOver3))\n",
    "plt.axvline(x=median_value_PiOver3, color='purple', linestyle='--', label='Median: {:.2f}'.format(median_value_PiOver3))\n",
    "\n",
    "# Add legend\n",
    "plt.legend()\n",
    "\n",
    "plt.savefig(\"RandomGridTruePMTs_\"+str(len(points_set_1))+\"Points_PiOver3.png\")\n",
    "plt.show()\n"
   ],
   "outputs": []
  },
  {
   "cell_type": "code",
   "execution_count": 128,
   "id": "2bc69b2b-9768-4c40-98be-301f11b268b3",
   "metadata": {},
   "source": [
    "# Compute histogram\n",
    "hist_values_PiOver6, bin_edges_PiOver6 = np.histogram(points_in_cap_per_grid_point_PiOver6, bins=np.arange(points_in_cap_per_grid_point_PiOver6.max() + 2))\n",
    "\n",
    "# Plot histogram\n",
    "plt.bar(bin_edges_PiOver6[:-1], hist_values_PiOver6, width=0.5, align='center')\n",
    "\n",
    "plt.xlabel('Number of points in cap')\n",
    "plt.xlim(550, 660)\n",
    "plt.ylabel('Number of directions')\n",
    "plt.title('Histogram of points in cap per direction')\n",
    "plt.grid(True)\n",
    "\n",
    "plt.axvline(x=peak_PiOver6, color='red', linestyle='--', label='Expected Peak: {}'.format(peak_PiOver6))\n",
    "\n",
    "# Compute mean and median\n",
    "mean_value_PiOver6 = np.mean(points_in_cap_per_grid_point_PiOver6)\n",
    "median_value_PiOver6 = np.median(points_in_cap_per_grid_point_PiOver6)\n",
    "\n",
    "# Plot mean and median as vertical lines\n",
    "plt.axvline(x=mean_value_PiOver6, color='green', linestyle='--', label='Mean: {:.2f}'.format(mean_value_PiOver6))\n",
    "plt.axvline(x=median_value_PiOver6, color='purple', linestyle='--', label='Median: {:.2f}'.format(median_value_PiOver6))\n",
    "\n",
    "# Add legend\n",
    "plt.legend()\n",
    "\n",
    "plt.savefig(\"RandomGridTruePMTs_\"+str(len(points_set_1))+\"Points_PiOver6.png\")\n",
    "plt.show()\n"
   ],
   "outputs": []
  },
  {
   "cell_type": "code",
   "execution_count": null,
   "id": "3aeda20b-9394-416b-835d-0fa31afcdf50",
   "metadata": {},
   "source": [],
   "outputs": []
  }
 ],
 "metadata": {
  "kernelspec": {
   "display_name": "Python 3 (ipykernel)",
   "language": "python",
   "name": "python3"
  },
  "language_info": {
   "codemirror_mode": {
    "name": "ipython",
    "version": 3
   },
   "file_extension": ".py",
   "mimetype": "text/x-python",
   "name": "python",
   "nbconvert_exporter": "python",
   "pygments_lexer": "ipython3",
   "version": "3.10.12"
  }
 },
 "nbformat": 4,
 "nbformat_minor": 5
}
